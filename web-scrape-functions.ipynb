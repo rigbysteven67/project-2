{
 "cells": [
  {
   "cell_type": "code",
   "execution_count": 1,
   "metadata": {},
   "outputs": [],
   "source": [
    "#import dependencies\n",
    "from bs4 import BeautifulSoup\n",
    "import requests\n",
    "import pandas as pd\n",
    "from splinter import Browser\n",
    "from webdriver_manager.chrome import ChromeDriverManager\n",
    "import pymongo\n",
    "# SQL Alchemy\n",
    "from sqlalchemy import create_engine\n",
    "\n",
    "# PyMySQL \n",
    "import pymysql\n",
    "pymysql.install_as_MySQLdb()\n",
    "\n",
    "# Config variables\n",
    "from config import local_db_user, local_db_pwd, local_db_endpoint, local_db_port, local_db_name"
   ]
  },
  {
   "cell_type": "code",
   "execution_count": 2,
   "metadata": {},
   "outputs": [
    {
     "name": "stdout",
     "output_type": "stream",
     "text": [
      "(psycopg2.errors.DuplicateDatabase) database \"project2_db\" already exists\n",
      "\n",
      "[SQL: CREATE DATABASE project2_db]\n",
      "(Background on this error at: http://sqlalche.me/e/13/f405)\n"
     ]
    },
    {
     "data": {
      "text/plain": [
       "['2020_fantasy_stats']"
      ]
     },
     "execution_count": 2,
     "metadata": {},
     "output_type": "execute_result"
    }
   ],
   "source": [
    "# Create Engine and Pass in MySQL Connection\n",
    "\n",
    "# local Postgres DB Connection  \n",
    "local_engine = create_engine(f\"postgresql://{local_db_user}:{local_db_pwd}@{local_db_endpoint}:{local_db_port}\")\n",
    "#print(f\"postgresql://{local_db_user}:{local_db_pwd}@{local_db_endpoint}:{local_db_port}\")\n",
    "\n",
    "# Create a local database engine connection\n",
    "local_conn = local_engine.connect()\n",
    "\n",
    "# Create local database\n",
    "try:\n",
    "    local_conn.execution_options(isolation_level=\"AUTOCOMMIT\").execute(f\"CREATE DATABASE {local_db_name}\")\n",
    "except Exception as e:\n",
    "    print(e)\n",
    "\n",
    "# Connect to local database\n",
    "try:\n",
    "    local_engine = create_engine(f\"postgresql://{local_db_user}:{local_db_pwd}@{local_db_endpoint}:{local_db_port}/{local_db_name}\")\n",
    "    local_conn = local_engine.connect()\n",
    "except Exception as e:\n",
    "    print(e)  \n",
    "    \n",
    "#confirm tables\n",
    "local_engine.table_names()"
   ]
  },
  {
   "cell_type": "code",
   "execution_count": 3,
   "metadata": {},
   "outputs": [],
   "source": [
    "def load_rows():\n",
    "    # load 300 rows view\n",
    "    load_300 = browser.links.find_by_partial_text('300')\n",
    "    load_300.click()\n",
    "\n",
    "    # load more rows\n",
    "    load_more = browser.links.find_by_partial_text('Load More')\n",
    "    load_more[1].click()\n",
    "    # for x in range(6):\n",
    "    #     load_more[1].click()"
   ]
  },
  {
   "cell_type": "code",
   "execution_count": 4,
   "metadata": {},
   "outputs": [],
   "source": [
    "def stats():\n",
    "    # save the stats table as a df\n",
    "    stats_table = fantasy_soup.find(\"table\", id=\"stats_grid\")\n",
    "    stats_df = pd.read_html(f'<table>${stats_table.tbody}</table>')[0]\n",
    "    return stats_df"
   ]
  },
  {
   "cell_type": "code",
   "execution_count": 5,
   "metadata": {},
   "outputs": [],
   "source": [
    "def names():\n",
    "    # save the names table as a df\n",
    "    table_names = fantasy_soup.find(\"div\", class_=\"k-grid-content-locked\")\n",
    "    names_df = pd.read_html(f'<table>${table_names.tbody}</table>')[0]\n",
    "    return names_df"
   ]
  },
  {
   "cell_type": "code",
   "execution_count": 6,
   "metadata": {},
   "outputs": [],
   "source": [
    "def combine():\n",
    "    col_names = ['RK', 'NAME', 'TEAM', 'POS', 'GMS', 'PASS YDS', 'PASS TD', 'PASS INT', 'RUSH YDS', 'RUSH TD', 'REC', 'REC YDS', 'REC TD', 'DEF SCK', 'DEF INT', 'DEF FF', 'DEF FR', 'FPTS/G', 'FPTS']\n",
    "    combined_df = pd.concat([names_df, stats_df], axis=1)\n",
    "    combined_df.columns = [col_names]\n",
    "    return combined_df"
   ]
  },
  {
   "cell_type": "code",
   "execution_count": 7,
   "metadata": {},
   "outputs": [],
   "source": [
    "def to_db():\n",
    "    #upload dataframe to database\n",
    "    #combined_df.to_sql(name=f'{season}_fantasy_stats', if_exists='replace', con=local_conn, index=False)\n",
    "    stats_df.to_sql(name=f'{season}_fantasy_stats', if_exists='replace', con=local_conn, index=False)\n",
    "    names_df.to_sql(name=f'{season}_fantasy_stats', if_exists='replace', con=local_conn, index=False)"
   ]
  },
  {
   "cell_type": "code",
   "execution_count": 8,
   "metadata": {},
   "outputs": [
    {
     "name": "stderr",
     "output_type": "stream",
     "text": [
      "[WDM] - Current google-chrome version is 88.0.4324\n",
      "[WDM] - Get LATEST driver version for 88.0.4324\n"
     ]
    },
    {
     "name": "stdout",
     "output_type": "stream",
     "text": [
      " \n"
     ]
    },
    {
     "name": "stderr",
     "output_type": "stream",
     "text": [
      "[WDM] - Driver [C:\\Users\\Steven\\.wdm\\drivers\\chromedriver\\win32\\88.0.4324.96\\chromedriver.exe] found in cache\n"
     ]
    }
   ],
   "source": [
    "# Setup splinter\n",
    "executable_path = {'executable_path': ChromeDriverManager().install()}\n",
    "browser = Browser('chrome', **executable_path, headless=False)"
   ]
  },
  {
   "cell_type": "code",
   "execution_count": 9,
   "metadata": {},
   "outputs": [],
   "source": [
    "# URL of page to be scraped\n",
    "\n",
    "#for season in range(2010, 20210):\n",
    "season = '2020'\n",
    "url = (f'https://fantasydata.com/nfl/fantasy-football-leaders?season={season}&seasontype=1&scope=1&subscope=1&startweek=1&endweek=1&aggregatescope=1&range=1')\n",
    "url\n",
    "\n",
    "# Retrieve page with the browser module\n",
    "browser.visit(url)"
   ]
  },
  {
   "cell_type": "code",
   "execution_count": 10,
   "metadata": {},
   "outputs": [
    {
     "ename": "NameError",
     "evalue": "name 'names_df' is not defined",
     "output_type": "error",
     "traceback": [
      "\u001b[1;31m---------------------------------------------------------------------------\u001b[0m",
      "\u001b[1;31mNameError\u001b[0m                                 Traceback (most recent call last)",
      "\u001b[1;32m<ipython-input-10-bf9f59daab7e>\u001b[0m in \u001b[0;36m<module>\u001b[1;34m\u001b[0m\n\u001b[0;32m      6\u001b[0m \u001b[0mstats\u001b[0m\u001b[1;33m(\u001b[0m\u001b[1;33m)\u001b[0m\u001b[1;33m\u001b[0m\u001b[1;33m\u001b[0m\u001b[0m\n\u001b[0;32m      7\u001b[0m \u001b[0mnames\u001b[0m\u001b[1;33m(\u001b[0m\u001b[1;33m)\u001b[0m\u001b[1;33m\u001b[0m\u001b[1;33m\u001b[0m\u001b[0m\n\u001b[1;32m----> 8\u001b[1;33m \u001b[0mcombine\u001b[0m\u001b[1;33m(\u001b[0m\u001b[1;33m)\u001b[0m\u001b[1;33m\u001b[0m\u001b[1;33m\u001b[0m\u001b[0m\n\u001b[0m\u001b[0;32m      9\u001b[0m \u001b[0mto_db\u001b[0m\u001b[1;33m(\u001b[0m\u001b[1;33m)\u001b[0m\u001b[1;33m\u001b[0m\u001b[1;33m\u001b[0m\u001b[0m\n",
      "\u001b[1;32m<ipython-input-6-10b081e5ba09>\u001b[0m in \u001b[0;36mcombine\u001b[1;34m()\u001b[0m\n\u001b[0;32m      1\u001b[0m \u001b[1;32mdef\u001b[0m \u001b[0mcombine\u001b[0m\u001b[1;33m(\u001b[0m\u001b[1;33m)\u001b[0m\u001b[1;33m:\u001b[0m\u001b[1;33m\u001b[0m\u001b[1;33m\u001b[0m\u001b[0m\n\u001b[0;32m      2\u001b[0m     \u001b[0mcol_names\u001b[0m \u001b[1;33m=\u001b[0m \u001b[1;33m[\u001b[0m\u001b[1;34m'RK'\u001b[0m\u001b[1;33m,\u001b[0m \u001b[1;34m'NAME'\u001b[0m\u001b[1;33m,\u001b[0m \u001b[1;34m'TEAM'\u001b[0m\u001b[1;33m,\u001b[0m \u001b[1;34m'POS'\u001b[0m\u001b[1;33m,\u001b[0m \u001b[1;34m'GMS'\u001b[0m\u001b[1;33m,\u001b[0m \u001b[1;34m'PASS YDS'\u001b[0m\u001b[1;33m,\u001b[0m \u001b[1;34m'PASS TD'\u001b[0m\u001b[1;33m,\u001b[0m \u001b[1;34m'PASS INT'\u001b[0m\u001b[1;33m,\u001b[0m \u001b[1;34m'RUSH YDS'\u001b[0m\u001b[1;33m,\u001b[0m \u001b[1;34m'RUSH TD'\u001b[0m\u001b[1;33m,\u001b[0m \u001b[1;34m'REC'\u001b[0m\u001b[1;33m,\u001b[0m \u001b[1;34m'REC YDS'\u001b[0m\u001b[1;33m,\u001b[0m \u001b[1;34m'REC TD'\u001b[0m\u001b[1;33m,\u001b[0m \u001b[1;34m'DEF SCK'\u001b[0m\u001b[1;33m,\u001b[0m \u001b[1;34m'DEF INT'\u001b[0m\u001b[1;33m,\u001b[0m \u001b[1;34m'DEF FF'\u001b[0m\u001b[1;33m,\u001b[0m \u001b[1;34m'DEF FR'\u001b[0m\u001b[1;33m,\u001b[0m \u001b[1;34m'FPTS/G'\u001b[0m\u001b[1;33m,\u001b[0m \u001b[1;34m'FPTS'\u001b[0m\u001b[1;33m]\u001b[0m\u001b[1;33m\u001b[0m\u001b[1;33m\u001b[0m\u001b[0m\n\u001b[1;32m----> 3\u001b[1;33m     \u001b[0mcombined_df\u001b[0m \u001b[1;33m=\u001b[0m \u001b[0mpd\u001b[0m\u001b[1;33m.\u001b[0m\u001b[0mconcat\u001b[0m\u001b[1;33m(\u001b[0m\u001b[1;33m[\u001b[0m\u001b[0mnames_df\u001b[0m\u001b[1;33m,\u001b[0m \u001b[0mstats_df\u001b[0m\u001b[1;33m]\u001b[0m\u001b[1;33m,\u001b[0m \u001b[0maxis\u001b[0m\u001b[1;33m=\u001b[0m\u001b[1;36m1\u001b[0m\u001b[1;33m)\u001b[0m\u001b[1;33m\u001b[0m\u001b[1;33m\u001b[0m\u001b[0m\n\u001b[0m\u001b[0;32m      4\u001b[0m     \u001b[0mcombined_df\u001b[0m\u001b[1;33m.\u001b[0m\u001b[0mcolumns\u001b[0m \u001b[1;33m=\u001b[0m \u001b[1;33m[\u001b[0m\u001b[0mcol_names\u001b[0m\u001b[1;33m]\u001b[0m\u001b[1;33m\u001b[0m\u001b[1;33m\u001b[0m\u001b[0m\n\u001b[0;32m      5\u001b[0m     \u001b[1;32mreturn\u001b[0m \u001b[0mcombined_df\u001b[0m\u001b[1;33m\u001b[0m\u001b[1;33m\u001b[0m\u001b[0m\n",
      "\u001b[1;31mNameError\u001b[0m: name 'names_df' is not defined"
     ]
    }
   ],
   "source": [
    "# setup html parser\n",
    "html = browser.html\n",
    "fantasy_soup = BeautifulSoup(html, 'html.parser')\n",
    "\n",
    "#load_rows()\n",
    "stats()\n",
    "names()\n",
    "combine()\n",
    "to_db()"
   ]
  },
  {
   "cell_type": "code",
   "execution_count": null,
   "metadata": {},
   "outputs": [],
   "source": []
  }
 ],
 "metadata": {
  "kernelspec": {
   "display_name": "Python 3",
   "language": "python",
   "name": "python3"
  },
  "language_info": {
   "codemirror_mode": {
    "name": "ipython",
    "version": 3
   },
   "file_extension": ".py",
   "mimetype": "text/x-python",
   "name": "python",
   "nbconvert_exporter": "python",
   "pygments_lexer": "ipython3",
   "version": "3.8.3"
  }
 },
 "nbformat": 4,
 "nbformat_minor": 4
}
