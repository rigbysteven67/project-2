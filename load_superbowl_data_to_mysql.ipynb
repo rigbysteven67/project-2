{
 "cells": [
  {
   "cell_type": "code",
   "execution_count": 1,
   "metadata": {},
   "outputs": [],
   "source": [
    "#import dependencies\n",
    "import requests\n",
    "import pandas as pd\n",
    "\n",
    "# SQL Alchemy\n",
    "from sqlalchemy import create_engine, event\n",
    "\n",
    "# PyMySQL \n",
    "import pymysql\n",
    "pymysql.install_as_MySQLdb()\n",
    "\n",
    "# Config variables\n",
    "from config import remote_db_user, remote_db_pwd, remote_db_endpoint, remote_db_port, remote_db_name"
   ]
  },
  {
   "cell_type": "code",
   "execution_count": 10,
   "metadata": {},
   "outputs": [
    {
     "data": {
      "text/html": [
       "<div>\n",
       "<style scoped>\n",
       "    .dataframe tbody tr th:only-of-type {\n",
       "        vertical-align: middle;\n",
       "    }\n",
       "\n",
       "    .dataframe tbody tr th {\n",
       "        vertical-align: top;\n",
       "    }\n",
       "\n",
       "    .dataframe thead th {\n",
       "        text-align: right;\n",
       "    }\n",
       "</style>\n",
       "<table border=\"1\" class=\"dataframe\">\n",
       "  <thead>\n",
       "    <tr style=\"text-align: right;\">\n",
       "      <th></th>\n",
       "      <th>Year</th>\n",
       "      <th>Season</th>\n",
       "      <th>SB</th>\n",
       "      <th>Winner</th>\n",
       "      <th>Winner_code</th>\n",
       "      <th>Winner Pts</th>\n",
       "      <th>Loser</th>\n",
       "      <th>Loser_code</th>\n",
       "      <th>Loser Pts</th>\n",
       "      <th>MVP</th>\n",
       "      <th>Stadium</th>\n",
       "      <th>City</th>\n",
       "      <th>State</th>\n",
       "    </tr>\n",
       "  </thead>\n",
       "  <tbody>\n",
       "    <tr>\n",
       "      <th>0</th>\n",
       "      <td>2021</td>\n",
       "      <td>2020</td>\n",
       "      <td>LV (55)</td>\n",
       "      <td>Tampa Bay Buccaneers</td>\n",
       "      <td>TB</td>\n",
       "      <td>31</td>\n",
       "      <td>Kansas City Chiefs</td>\n",
       "      <td>KC</td>\n",
       "      <td>9</td>\n",
       "      <td>Tom Brady</td>\n",
       "      <td>Raymond James Stadium</td>\n",
       "      <td>Tampa</td>\n",
       "      <td>Florida</td>\n",
       "    </tr>\n",
       "    <tr>\n",
       "      <th>1</th>\n",
       "      <td>2020</td>\n",
       "      <td>2019</td>\n",
       "      <td>LIV (54)</td>\n",
       "      <td>Kansas City Chiefs</td>\n",
       "      <td>KC</td>\n",
       "      <td>31</td>\n",
       "      <td>San Francisco 49ers</td>\n",
       "      <td>SF</td>\n",
       "      <td>20</td>\n",
       "      <td>Patrick Mahomes</td>\n",
       "      <td>Hard Rock Stadium</td>\n",
       "      <td>Miami Gardens</td>\n",
       "      <td>Florida</td>\n",
       "    </tr>\n",
       "    <tr>\n",
       "      <th>2</th>\n",
       "      <td>2019</td>\n",
       "      <td>2018</td>\n",
       "      <td>LIII (53)</td>\n",
       "      <td>New England Patriots</td>\n",
       "      <td>NE</td>\n",
       "      <td>13</td>\n",
       "      <td>Los Angeles Rams</td>\n",
       "      <td>LAR</td>\n",
       "      <td>3</td>\n",
       "      <td>Julian Edelman</td>\n",
       "      <td>Mercedes-Benz Stadium</td>\n",
       "      <td>Atlanta</td>\n",
       "      <td>Georgia</td>\n",
       "    </tr>\n",
       "    <tr>\n",
       "      <th>3</th>\n",
       "      <td>2018</td>\n",
       "      <td>2017</td>\n",
       "      <td>LII (52)</td>\n",
       "      <td>Philadelphia Eagles</td>\n",
       "      <td>PHI</td>\n",
       "      <td>41</td>\n",
       "      <td>New England Patriots</td>\n",
       "      <td>NE</td>\n",
       "      <td>33</td>\n",
       "      <td>Nick Foles</td>\n",
       "      <td>U.S. Bank Stadium</td>\n",
       "      <td>Minneapolis</td>\n",
       "      <td>Minnesota</td>\n",
       "    </tr>\n",
       "    <tr>\n",
       "      <th>4</th>\n",
       "      <td>2017</td>\n",
       "      <td>2016</td>\n",
       "      <td>LI (51)</td>\n",
       "      <td>New England Patriots</td>\n",
       "      <td>NE</td>\n",
       "      <td>34</td>\n",
       "      <td>Atlanta Falcons</td>\n",
       "      <td>ATL</td>\n",
       "      <td>28</td>\n",
       "      <td>Tom Brady</td>\n",
       "      <td>NRG Stadium</td>\n",
       "      <td>Houston</td>\n",
       "      <td>Texas</td>\n",
       "    </tr>\n",
       "  </tbody>\n",
       "</table>\n",
       "</div>"
      ],
      "text/plain": [
       "   Year  Season         SB                Winner Winner_code  Winner Pts  \\\n",
       "0  2021    2020    LV (55)  Tampa Bay Buccaneers          TB          31   \n",
       "1  2020    2019   LIV (54)    Kansas City Chiefs          KC          31   \n",
       "2  2019    2018  LIII (53)  New England Patriots          NE          13   \n",
       "3  2018    2017   LII (52)   Philadelphia Eagles         PHI          41   \n",
       "4  2017    2016    LI (51)  New England Patriots          NE          34   \n",
       "\n",
       "                  Loser Loser_code  Loser Pts              MVP  \\\n",
       "0    Kansas City Chiefs         KC          9        Tom Brady   \n",
       "1   San Francisco 49ers         SF         20  Patrick Mahomes   \n",
       "2      Los Angeles Rams        LAR          3   Julian Edelman   \n",
       "3  New England Patriots         NE         33       Nick Foles   \n",
       "4       Atlanta Falcons        ATL         28        Tom Brady   \n",
       "\n",
       "                 Stadium           City      State  \n",
       "0  Raymond James Stadium          Tampa    Florida  \n",
       "1      Hard Rock Stadium  Miami Gardens    Florida  \n",
       "2  Mercedes-Benz Stadium        Atlanta    Georgia  \n",
       "3      U.S. Bank Stadium    Minneapolis  Minnesota  \n",
       "4            NRG Stadium        Houston      Texas  "
      ]
     },
     "execution_count": 10,
     "metadata": {},
     "output_type": "execute_result"
    }
   ],
   "source": [
    "# read in csv as df\n",
    "super_bowl_df = pd.read_csv('superbowl_table.csv')\n",
    "del super_bowl_df['Unnamed: 0']\n",
    "del super_bowl_df['Unnamed: 14']\n",
    "del super_bowl_df['Unnamed: 15']\n",
    "del super_bowl_df['Unnamed: 16']\n",
    "super_bowl_df.head()"
   ]
  },
  {
   "cell_type": "code",
   "execution_count": 11,
   "metadata": {},
   "outputs": [
    {
     "name": "stdout",
     "output_type": "stream",
     "text": [
      "(pymysql.err.ProgrammingError) (1007, \"Can't create database 'fantasy_project'; database exists\")\n",
      "[SQL: CREATE DATABASE fantasy_project]\n",
      "(Background on this error at: http://sqlalche.me/e/13/f405)\n"
     ]
    },
    {
     "data": {
      "text/plain": [
       "['fantasy_stats', 'super_bowl_stats']"
      ]
     },
     "execution_count": 11,
     "metadata": {},
     "output_type": "execute_result"
    }
   ],
   "source": [
    "# Create Engine and Pass in MySQL Connection\n",
    "\n",
    "# Remote MySQL DB Connection  \n",
    "remote_engine = create_engine(f\"mysql://{remote_db_user}:{remote_db_pwd}@{remote_db_endpoint}:{remote_db_port}\")\n",
    "#print(f\"postgresql://{local_db_user}:{local_db_pwd}@{local_db_endpoint}:{local_db_port}\")\n",
    "\n",
    "# Create a local database engine connection\n",
    "remote_conn = remote_engine.connect()\n",
    "\n",
    "# Create remote database\n",
    "try:\n",
    "    remote_conn.execution_options(isolation_level=\"AUTOCOMMIT\").execute(f\"CREATE DATABASE {remote_db_name}\")\n",
    "except Exception as e:\n",
    "    print(e)\n",
    "\n",
    "# Connect to remote database\n",
    "try:\n",
    "    remote_engine = create_engine(f\"mysql://{remote_db_user}:{remote_db_pwd}@{remote_db_endpoint}:{remote_db_port}/{remote_db_name}\")\n",
    "    remote_conn = remote_engine.connect()\n",
    "except Exception as e:\n",
    "    print(e)  \n",
    "    \n",
    "#confirm tables\n",
    "remote_engine.table_names()"
   ]
  },
  {
   "cell_type": "code",
   "execution_count": 12,
   "metadata": {},
   "outputs": [
    {
     "data": {
      "text/plain": [
       "['fantasy_stats', 'super_bowl_stats']"
      ]
     },
     "execution_count": 12,
     "metadata": {},
     "output_type": "execute_result"
    }
   ],
   "source": [
    "#upload dataframe to database\n",
    "super_bowl_df.to_sql(name='super_bowl_stats', if_exists='replace', con=remote_conn, index=False)\n",
    "remote_engine.table_names()"
   ]
  },
  {
   "cell_type": "code",
   "execution_count": null,
   "metadata": {},
   "outputs": [],
   "source": []
  }
 ],
 "metadata": {
  "kernelspec": {
   "display_name": "Python 3",
   "language": "python",
   "name": "python3"
  },
  "language_info": {
   "codemirror_mode": {
    "name": "ipython",
    "version": 3
   },
   "file_extension": ".py",
   "mimetype": "text/x-python",
   "name": "python",
   "nbconvert_exporter": "python",
   "pygments_lexer": "ipython3",
   "version": "3.8.5"
  }
 },
 "nbformat": 4,
 "nbformat_minor": 4
}
